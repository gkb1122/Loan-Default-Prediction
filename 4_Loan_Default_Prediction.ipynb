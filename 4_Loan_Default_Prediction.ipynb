{
  "nbformat": 4,
  "nbformat_minor": 0,
  "metadata": {
    "colab": {
      "provenance": [],
      "authorship_tag": "ABX9TyOhN7J9yBrk7cZSV2hyOmAQ"
    },
    "kernelspec": {
      "name": "python3",
      "display_name": "Python 3"
    },
    "language_info": {
      "name": "python"
    }
  },
  "cells": [
    {
      "cell_type": "code",
      "execution_count": 2,
      "metadata": {
        "id": "2AeI5VyXA2FN"
      },
      "outputs": [],
      "source": [
        "# Step 1\n",
        "!pip install lightgbm imbalanced-learn scikit-learn matplotlib seaborn --quiet\n"
      ]
    },
    {
      "cell_type": "code",
      "source": [
        "# Step 2: Upload Train and Test Dataset Files\n",
        "from google.colab import files\n",
        "import pandas as pd\n",
        "\n",
        "print(\"📂 Upload your **train dataset** (e.g., train_lending_club.csv)\")\n",
        "uploaded_train = files.upload()\n",
        "\n",
        "print(\"\\n📂 Upload your **test dataset** (e.g., test_lending_club.csv)\")\n",
        "uploaded_test = files.upload()\n",
        "\n",
        "# Load the uploaded CSV files into Pandas DataFrames\n",
        "train_file = list(uploaded_train.keys())[0]\n",
        "test_file = list(uploaded_test.keys())[0]\n",
        "\n",
        "train_df = pd.read_csv(train_file)\n",
        "test_df = pd.read_csv(test_file)\n"
      ],
      "metadata": {
        "colab": {
          "base_uri": "https://localhost:8080/",
          "height": 181
        },
        "id": "LsiQTYA0D850",
        "outputId": "a250f5a3-fdfb-465d-eaf2-566ca37fd759"
      },
      "execution_count": 4,
      "outputs": [
        {
          "output_type": "stream",
          "name": "stdout",
          "text": [
            "📂 Upload your **train dataset** (e.g., train_lending_club.csv)\n"
          ]
        },
        {
          "output_type": "display_data",
          "data": {
            "text/plain": [
              "<IPython.core.display.HTML object>"
            ],
            "text/html": [
              "\n",
              "     <input type=\"file\" id=\"files-cf6ed6bf-4d24-4951-8f44-4ab12c829b2a\" name=\"files[]\" multiple disabled\n",
              "        style=\"border:none\" />\n",
              "     <output id=\"result-cf6ed6bf-4d24-4951-8f44-4ab12c829b2a\">\n",
              "      Upload widget is only available when the cell has been executed in the\n",
              "      current browser session. Please rerun this cell to enable.\n",
              "      </output>\n",
              "      <script>// Copyright 2017 Google LLC\n",
              "//\n",
              "// Licensed under the Apache License, Version 2.0 (the \"License\");\n",
              "// you may not use this file except in compliance with the License.\n",
              "// You may obtain a copy of the License at\n",
              "//\n",
              "//      http://www.apache.org/licenses/LICENSE-2.0\n",
              "//\n",
              "// Unless required by applicable law or agreed to in writing, software\n",
              "// distributed under the License is distributed on an \"AS IS\" BASIS,\n",
              "// WITHOUT WARRANTIES OR CONDITIONS OF ANY KIND, either express or implied.\n",
              "// See the License for the specific language governing permissions and\n",
              "// limitations under the License.\n",
              "\n",
              "/**\n",
              " * @fileoverview Helpers for google.colab Python module.\n",
              " */\n",
              "(function(scope) {\n",
              "function span(text, styleAttributes = {}) {\n",
              "  const element = document.createElement('span');\n",
              "  element.textContent = text;\n",
              "  for (const key of Object.keys(styleAttributes)) {\n",
              "    element.style[key] = styleAttributes[key];\n",
              "  }\n",
              "  return element;\n",
              "}\n",
              "\n",
              "// Max number of bytes which will be uploaded at a time.\n",
              "const MAX_PAYLOAD_SIZE = 100 * 1024;\n",
              "\n",
              "function _uploadFiles(inputId, outputId) {\n",
              "  const steps = uploadFilesStep(inputId, outputId);\n",
              "  const outputElement = document.getElementById(outputId);\n",
              "  // Cache steps on the outputElement to make it available for the next call\n",
              "  // to uploadFilesContinue from Python.\n",
              "  outputElement.steps = steps;\n",
              "\n",
              "  return _uploadFilesContinue(outputId);\n",
              "}\n",
              "\n",
              "// This is roughly an async generator (not supported in the browser yet),\n",
              "// where there are multiple asynchronous steps and the Python side is going\n",
              "// to poll for completion of each step.\n",
              "// This uses a Promise to block the python side on completion of each step,\n",
              "// then passes the result of the previous step as the input to the next step.\n",
              "function _uploadFilesContinue(outputId) {\n",
              "  const outputElement = document.getElementById(outputId);\n",
              "  const steps = outputElement.steps;\n",
              "\n",
              "  const next = steps.next(outputElement.lastPromiseValue);\n",
              "  return Promise.resolve(next.value.promise).then((value) => {\n",
              "    // Cache the last promise value to make it available to the next\n",
              "    // step of the generator.\n",
              "    outputElement.lastPromiseValue = value;\n",
              "    return next.value.response;\n",
              "  });\n",
              "}\n",
              "\n",
              "/**\n",
              " * Generator function which is called between each async step of the upload\n",
              " * process.\n",
              " * @param {string} inputId Element ID of the input file picker element.\n",
              " * @param {string} outputId Element ID of the output display.\n",
              " * @return {!Iterable<!Object>} Iterable of next steps.\n",
              " */\n",
              "function* uploadFilesStep(inputId, outputId) {\n",
              "  const inputElement = document.getElementById(inputId);\n",
              "  inputElement.disabled = false;\n",
              "\n",
              "  const outputElement = document.getElementById(outputId);\n",
              "  outputElement.innerHTML = '';\n",
              "\n",
              "  const pickedPromise = new Promise((resolve) => {\n",
              "    inputElement.addEventListener('change', (e) => {\n",
              "      resolve(e.target.files);\n",
              "    });\n",
              "  });\n",
              "\n",
              "  const cancel = document.createElement('button');\n",
              "  inputElement.parentElement.appendChild(cancel);\n",
              "  cancel.textContent = 'Cancel upload';\n",
              "  const cancelPromise = new Promise((resolve) => {\n",
              "    cancel.onclick = () => {\n",
              "      resolve(null);\n",
              "    };\n",
              "  });\n",
              "\n",
              "  // Wait for the user to pick the files.\n",
              "  const files = yield {\n",
              "    promise: Promise.race([pickedPromise, cancelPromise]),\n",
              "    response: {\n",
              "      action: 'starting',\n",
              "    }\n",
              "  };\n",
              "\n",
              "  cancel.remove();\n",
              "\n",
              "  // Disable the input element since further picks are not allowed.\n",
              "  inputElement.disabled = true;\n",
              "\n",
              "  if (!files) {\n",
              "    return {\n",
              "      response: {\n",
              "        action: 'complete',\n",
              "      }\n",
              "    };\n",
              "  }\n",
              "\n",
              "  for (const file of files) {\n",
              "    const li = document.createElement('li');\n",
              "    li.append(span(file.name, {fontWeight: 'bold'}));\n",
              "    li.append(span(\n",
              "        `(${file.type || 'n/a'}) - ${file.size} bytes, ` +\n",
              "        `last modified: ${\n",
              "            file.lastModifiedDate ? file.lastModifiedDate.toLocaleDateString() :\n",
              "                                    'n/a'} - `));\n",
              "    const percent = span('0% done');\n",
              "    li.appendChild(percent);\n",
              "\n",
              "    outputElement.appendChild(li);\n",
              "\n",
              "    const fileDataPromise = new Promise((resolve) => {\n",
              "      const reader = new FileReader();\n",
              "      reader.onload = (e) => {\n",
              "        resolve(e.target.result);\n",
              "      };\n",
              "      reader.readAsArrayBuffer(file);\n",
              "    });\n",
              "    // Wait for the data to be ready.\n",
              "    let fileData = yield {\n",
              "      promise: fileDataPromise,\n",
              "      response: {\n",
              "        action: 'continue',\n",
              "      }\n",
              "    };\n",
              "\n",
              "    // Use a chunked sending to avoid message size limits. See b/62115660.\n",
              "    let position = 0;\n",
              "    do {\n",
              "      const length = Math.min(fileData.byteLength - position, MAX_PAYLOAD_SIZE);\n",
              "      const chunk = new Uint8Array(fileData, position, length);\n",
              "      position += length;\n",
              "\n",
              "      const base64 = btoa(String.fromCharCode.apply(null, chunk));\n",
              "      yield {\n",
              "        response: {\n",
              "          action: 'append',\n",
              "          file: file.name,\n",
              "          data: base64,\n",
              "        },\n",
              "      };\n",
              "\n",
              "      let percentDone = fileData.byteLength === 0 ?\n",
              "          100 :\n",
              "          Math.round((position / fileData.byteLength) * 100);\n",
              "      percent.textContent = `${percentDone}% done`;\n",
              "\n",
              "    } while (position < fileData.byteLength);\n",
              "  }\n",
              "\n",
              "  // All done.\n",
              "  yield {\n",
              "    response: {\n",
              "      action: 'complete',\n",
              "    }\n",
              "  };\n",
              "}\n",
              "\n",
              "scope.google = scope.google || {};\n",
              "scope.google.colab = scope.google.colab || {};\n",
              "scope.google.colab._files = {\n",
              "  _uploadFiles,\n",
              "  _uploadFilesContinue,\n",
              "};\n",
              "})(self);\n",
              "</script> "
            ]
          },
          "metadata": {}
        },
        {
          "output_type": "stream",
          "name": "stdout",
          "text": [
            "Saving train_lending_club.csv to train_lending_club (1).csv\n",
            "\n",
            "📂 Upload your **test dataset** (e.g., test_lending_club.csv)\n"
          ]
        },
        {
          "output_type": "display_data",
          "data": {
            "text/plain": [
              "<IPython.core.display.HTML object>"
            ],
            "text/html": [
              "\n",
              "     <input type=\"file\" id=\"files-be8d2658-10e5-48be-97f8-ec2335786fe0\" name=\"files[]\" multiple disabled\n",
              "        style=\"border:none\" />\n",
              "     <output id=\"result-be8d2658-10e5-48be-97f8-ec2335786fe0\">\n",
              "      Upload widget is only available when the cell has been executed in the\n",
              "      current browser session. Please rerun this cell to enable.\n",
              "      </output>\n",
              "      <script>// Copyright 2017 Google LLC\n",
              "//\n",
              "// Licensed under the Apache License, Version 2.0 (the \"License\");\n",
              "// you may not use this file except in compliance with the License.\n",
              "// You may obtain a copy of the License at\n",
              "//\n",
              "//      http://www.apache.org/licenses/LICENSE-2.0\n",
              "//\n",
              "// Unless required by applicable law or agreed to in writing, software\n",
              "// distributed under the License is distributed on an \"AS IS\" BASIS,\n",
              "// WITHOUT WARRANTIES OR CONDITIONS OF ANY KIND, either express or implied.\n",
              "// See the License for the specific language governing permissions and\n",
              "// limitations under the License.\n",
              "\n",
              "/**\n",
              " * @fileoverview Helpers for google.colab Python module.\n",
              " */\n",
              "(function(scope) {\n",
              "function span(text, styleAttributes = {}) {\n",
              "  const element = document.createElement('span');\n",
              "  element.textContent = text;\n",
              "  for (const key of Object.keys(styleAttributes)) {\n",
              "    element.style[key] = styleAttributes[key];\n",
              "  }\n",
              "  return element;\n",
              "}\n",
              "\n",
              "// Max number of bytes which will be uploaded at a time.\n",
              "const MAX_PAYLOAD_SIZE = 100 * 1024;\n",
              "\n",
              "function _uploadFiles(inputId, outputId) {\n",
              "  const steps = uploadFilesStep(inputId, outputId);\n",
              "  const outputElement = document.getElementById(outputId);\n",
              "  // Cache steps on the outputElement to make it available for the next call\n",
              "  // to uploadFilesContinue from Python.\n",
              "  outputElement.steps = steps;\n",
              "\n",
              "  return _uploadFilesContinue(outputId);\n",
              "}\n",
              "\n",
              "// This is roughly an async generator (not supported in the browser yet),\n",
              "// where there are multiple asynchronous steps and the Python side is going\n",
              "// to poll for completion of each step.\n",
              "// This uses a Promise to block the python side on completion of each step,\n",
              "// then passes the result of the previous step as the input to the next step.\n",
              "function _uploadFilesContinue(outputId) {\n",
              "  const outputElement = document.getElementById(outputId);\n",
              "  const steps = outputElement.steps;\n",
              "\n",
              "  const next = steps.next(outputElement.lastPromiseValue);\n",
              "  return Promise.resolve(next.value.promise).then((value) => {\n",
              "    // Cache the last promise value to make it available to the next\n",
              "    // step of the generator.\n",
              "    outputElement.lastPromiseValue = value;\n",
              "    return next.value.response;\n",
              "  });\n",
              "}\n",
              "\n",
              "/**\n",
              " * Generator function which is called between each async step of the upload\n",
              " * process.\n",
              " * @param {string} inputId Element ID of the input file picker element.\n",
              " * @param {string} outputId Element ID of the output display.\n",
              " * @return {!Iterable<!Object>} Iterable of next steps.\n",
              " */\n",
              "function* uploadFilesStep(inputId, outputId) {\n",
              "  const inputElement = document.getElementById(inputId);\n",
              "  inputElement.disabled = false;\n",
              "\n",
              "  const outputElement = document.getElementById(outputId);\n",
              "  outputElement.innerHTML = '';\n",
              "\n",
              "  const pickedPromise = new Promise((resolve) => {\n",
              "    inputElement.addEventListener('change', (e) => {\n",
              "      resolve(e.target.files);\n",
              "    });\n",
              "  });\n",
              "\n",
              "  const cancel = document.createElement('button');\n",
              "  inputElement.parentElement.appendChild(cancel);\n",
              "  cancel.textContent = 'Cancel upload';\n",
              "  const cancelPromise = new Promise((resolve) => {\n",
              "    cancel.onclick = () => {\n",
              "      resolve(null);\n",
              "    };\n",
              "  });\n",
              "\n",
              "  // Wait for the user to pick the files.\n",
              "  const files = yield {\n",
              "    promise: Promise.race([pickedPromise, cancelPromise]),\n",
              "    response: {\n",
              "      action: 'starting',\n",
              "    }\n",
              "  };\n",
              "\n",
              "  cancel.remove();\n",
              "\n",
              "  // Disable the input element since further picks are not allowed.\n",
              "  inputElement.disabled = true;\n",
              "\n",
              "  if (!files) {\n",
              "    return {\n",
              "      response: {\n",
              "        action: 'complete',\n",
              "      }\n",
              "    };\n",
              "  }\n",
              "\n",
              "  for (const file of files) {\n",
              "    const li = document.createElement('li');\n",
              "    li.append(span(file.name, {fontWeight: 'bold'}));\n",
              "    li.append(span(\n",
              "        `(${file.type || 'n/a'}) - ${file.size} bytes, ` +\n",
              "        `last modified: ${\n",
              "            file.lastModifiedDate ? file.lastModifiedDate.toLocaleDateString() :\n",
              "                                    'n/a'} - `));\n",
              "    const percent = span('0% done');\n",
              "    li.appendChild(percent);\n",
              "\n",
              "    outputElement.appendChild(li);\n",
              "\n",
              "    const fileDataPromise = new Promise((resolve) => {\n",
              "      const reader = new FileReader();\n",
              "      reader.onload = (e) => {\n",
              "        resolve(e.target.result);\n",
              "      };\n",
              "      reader.readAsArrayBuffer(file);\n",
              "    });\n",
              "    // Wait for the data to be ready.\n",
              "    let fileData = yield {\n",
              "      promise: fileDataPromise,\n",
              "      response: {\n",
              "        action: 'continue',\n",
              "      }\n",
              "    };\n",
              "\n",
              "    // Use a chunked sending to avoid message size limits. See b/62115660.\n",
              "    let position = 0;\n",
              "    do {\n",
              "      const length = Math.min(fileData.byteLength - position, MAX_PAYLOAD_SIZE);\n",
              "      const chunk = new Uint8Array(fileData, position, length);\n",
              "      position += length;\n",
              "\n",
              "      const base64 = btoa(String.fromCharCode.apply(null, chunk));\n",
              "      yield {\n",
              "        response: {\n",
              "          action: 'append',\n",
              "          file: file.name,\n",
              "          data: base64,\n",
              "        },\n",
              "      };\n",
              "\n",
              "      let percentDone = fileData.byteLength === 0 ?\n",
              "          100 :\n",
              "          Math.round((position / fileData.byteLength) * 100);\n",
              "      percent.textContent = `${percentDone}% done`;\n",
              "\n",
              "    } while (position < fileData.byteLength);\n",
              "  }\n",
              "\n",
              "  // All done.\n",
              "  yield {\n",
              "    response: {\n",
              "      action: 'complete',\n",
              "    }\n",
              "  };\n",
              "}\n",
              "\n",
              "scope.google = scope.google || {};\n",
              "scope.google.colab = scope.google.colab || {};\n",
              "scope.google.colab._files = {\n",
              "  _uploadFiles,\n",
              "  _uploadFilesContinue,\n",
              "};\n",
              "})(self);\n",
              "</script> "
            ]
          },
          "metadata": {}
        },
        {
          "output_type": "stream",
          "name": "stdout",
          "text": [
            "Saving test_lending_club.csv to test_lending_club.csv\n"
          ]
        }
      ]
    },
    {
      "cell_type": "code",
      "source": [
        "#Step 3: Initial Exploration of Dataset\n",
        "print(\"🔍 Train dataset shape:\", train_df.shape)\n",
        "print(\"🔍 Test dataset shape:\", test_df.shape)\n",
        "print(\"\\n📊 Loan status distribution in training data:\")\n",
        "print(train_df['loan_status'].value_counts())\n"
      ],
      "metadata": {
        "colab": {
          "base_uri": "https://localhost:8080/"
        },
        "id": "3iQThqKMFOSf",
        "outputId": "14ce3005-7674-4e14-e22b-d654ba59f683"
      },
      "execution_count": 48,
      "outputs": [
        {
          "output_type": "stream",
          "name": "stdout",
          "text": [
            "🔍 Train dataset shape: (236846, 27)\n",
            "🔍 Test dataset shape: (95019, 26)\n",
            "\n",
            "📊 Loan status distribution in training data:\n",
            "loan_status\n",
            "0    236846\n",
            "Name: count, dtype: int64\n"
          ]
        }
      ]
    },
    {
      "cell_type": "code",
      "source": [
        "# Step 4: Preprocessing - Handle Missing Values and Irrelevant Columns\n",
        "# Drop columns with more than 30% missing data\n",
        "train_df = train_df.dropna(thresh=0.7 * len(train_df), axis=1)\n",
        "test_df = test_df[train_df.columns.drop('loan_status')]\n",
        "\n",
        "# Fill remaining missing values with median (numerical)\n",
        "train_df = train_df.fillna(train_df.median(numeric_only=True))\n",
        "test_df = test_df.fillna(test_df.median(numeric_only=True))\n"
      ],
      "metadata": {
        "id": "k4GPNhdPFZnT"
      },
      "execution_count": 49,
      "outputs": []
    },
    {
      "cell_type": "code",
      "source": [
        "# Step 5: Encode Categorical Features\n",
        "from sklearn.preprocessing import LabelEncoder\n",
        "\n",
        "# Identify object-type columns excluding target\n",
        "cat_cols = train_df.select_dtypes(include='object').columns.drop('loan_status', errors='ignore')\n",
        "\n",
        "# Encode each categorical column using combined data from train and test\n",
        "for col in cat_cols:\n",
        "    le = LabelEncoder()\n",
        "    combined_data = pd.concat([train_df[col], test_df[col]], axis=0).astype(str)\n",
        "    le.fit(combined_data)\n",
        "    train_df[col] = le.transform(train_df[col].astype(str))\n",
        "    test_df[col] = le.transform(test_df[col].astype(str))\n",
        "\n"
      ],
      "metadata": {
        "id": "vraX-b50FbvD"
      },
      "execution_count": 50,
      "outputs": []
    },
    {
      "cell_type": "code",
      "source": [
        "# Step 6: Encode Target and Prepare Features\n",
        "# Convert target: 'Default' → 1, others → 0\n",
        "train_df['loan_status'] = train_df['loan_status'].apply(lambda x: 1 if x == 'Default' else 0)\n",
        "\n",
        "# Split features and label\n",
        "X = train_df.drop('loan_status', axis=1)\n",
        "y = train_df['loan_status']\n"
      ],
      "metadata": {
        "id": "zgqYtyjZFdNG"
      },
      "execution_count": 51,
      "outputs": []
    },
    {
      "cell_type": "code",
      "source": [
        "#Step 7: Balance Classes with SMOTE (only if both classes exist)\n",
        "from imblearn.over_sampling import SMOTE\n",
        "\n",
        "# Check again before SMOTE\n",
        "if len(y.unique()) > 1:\n",
        "    sm = SMOTE(random_state=42)\n",
        "    X_resampled, y_resampled = sm.fit_resample(X, y)\n",
        "    print(\"✅ Class distribution after SMOTE:\\n\", pd.Series(y_resampled).value_counts())\n",
        "else:\n",
        "    print(\"⚠️ SMOTE skipped: Target has only one class.\")\n",
        "    X_resampled, y_resampled = X, y\n"
      ],
      "metadata": {
        "colab": {
          "base_uri": "https://localhost:8080/"
        },
        "id": "C7YxcqSdFeuh",
        "outputId": "75fed2dc-2545-46db-810b-56c739765ec0"
      },
      "execution_count": 52,
      "outputs": [
        {
          "output_type": "stream",
          "name": "stdout",
          "text": [
            "⚠️ SMOTE skipped: Target has only one class.\n"
          ]
        }
      ]
    },
    {
      "cell_type": "code",
      "source": [
        "# Step 8: Feature Scaling\n",
        "\n",
        "from sklearn.preprocessing import StandardScaler\n",
        "\n",
        "# Drop non-numeric columns from both datasets\n",
        "non_numeric_cols = X_resampled.select_dtypes(include='object').columns\n",
        "X_resampled.drop(columns=non_numeric_cols, inplace=True)\n",
        "test_df.drop(columns=non_numeric_cols, errors='ignore', inplace=True)\n",
        "\n",
        "# Align columns in test set to match training set\n",
        "# Make sure both datasets have the same columns by adding missing columns to test_df (if any)\n",
        "missing_cols = set(X_resampled.columns) - set(test_df.columns)\n",
        "for col in missing_cols:\n",
        "    test_df[col] = 0\n",
        "\n",
        "# Now, reorder the test_df columns to match X_resampled\n",
        "test_df = test_df[X_resampled.columns]\n",
        "\n",
        "# Standard scaling\n",
        "scaler = StandardScaler()\n",
        "X_res_scaled = scaler.fit_transform(X_resampled)\n",
        "X_test_scaled = scaler.transform(test_df)\n"
      ],
      "metadata": {
        "id": "Ssh--yfFFgxl"
      },
      "execution_count": 53,
      "outputs": []
    },
    {
      "cell_type": "code",
      "source": [
        "# Step 9: Train Models\n",
        "from lightgbm import LGBMClassifier\n",
        "from sklearn.svm import SVC\n",
        "from imblearn.over_sampling import SMOTE\n",
        "from sklearn.preprocessing import StandardScaler\n",
        "\n",
        "# Check the class distribution in the original target variable 'y'\n",
        "print(\"Class distribution in the original target variable 'y':\")\n",
        "print(y.value_counts())\n",
        "\n",
        "# If there's only one class in 'y', resampling is not possible.\n",
        "if y.value_counts().shape[0] < 2:\n",
        "    print(\"Warning: The dataset contains only one class in the target variable. No resampling will be performed.\")\n",
        "\n",
        "else:\n",
        "    # Apply SMOTE for resampling\n",
        "    smote = SMOTE(random_state=42)\n",
        "    X_resampled, y_resampled = smote.fit_resample(X, y)\n",
        "\n",
        "    # Check class distribution after resampling\n",
        "    print(\"Class distribution after resampling:\")\n",
        "    print(y_resampled.value_counts())\n",
        "\n",
        "    # Apply Standard Scaling to the resampled data\n",
        "    scaler = StandardScaler()\n",
        "\n",
        "    # Check for missing values and handle them before scaling\n",
        "    if X_resampled.isnull().any().any():\n",
        "        print(\"Warning: Missing values found in the resampled dataset. Handle them before scaling.\")\n",
        "    else:\n",
        "        X_res_scaled = scaler.fit_transform(X_resampled)\n",
        "        print(\"Data scaling applied successfully.\")\n",
        "\n",
        "    # Initialize models\n",
        "    lgbm = LGBMClassifier(random_state=42)\n",
        "    svm = SVC(probability=True, random_state=42)\n",
        "\n",
        "    # Train models if there are two classes\n",
        "    try:\n",
        "        lgbm.fit(X_res_scaled, y_resampled)\n",
        "        print(\"LightGBM model trained successfully.\")\n",
        "\n",
        "        svm.fit(X_res_scaled, y_resampled)\n",
        "        print(\"SVM model trained successfully.\")\n",
        "    except Exception as e:\n",
        "        print(f\"Error during model training: {e}\")\n",
        "        raise\n"
      ],
      "metadata": {
        "colab": {
          "base_uri": "https://localhost:8080/"
        },
        "id": "Fp-at9z0FiWa",
        "outputId": "9ee78058-f487-446e-b24d-666908ccb9c9"
      },
      "execution_count": 54,
      "outputs": [
        {
          "output_type": "stream",
          "name": "stdout",
          "text": [
            "Class distribution in the original target variable 'y':\n",
            "loan_status\n",
            "0    236846\n",
            "Name: count, dtype: int64\n",
            "Warning: The dataset contains only one class in the target variable. No resampling will be performed.\n"
          ]
        }
      ]
    },
    {
      "cell_type": "code",
      "source": [
        "# Step 10: Evaluate Model Performance\n",
        "from sklearn.metrics import classification_report, confusion_matrix, roc_curve, auc\n",
        "import numpy as np\n",
        "import matplotlib.pyplot as plt\n",
        "import seaborn as sns\n",
        "\n",
        "def evaluate_model(model, name, X_test, y_test):\n",
        "    # Check if model is fitted\n",
        "    if not hasattr(model, \"classes_\"):\n",
        "        raise ValueError(f\"Model {name} is not fitted! Call .fit() first.\")\n",
        "\n",
        "    try:\n",
        "        y_pred = model.predict(X_test)\n",
        "        print(f\"\\n📌 Evaluation Report for {name}\")\n",
        "        print(classification_report(y_test, y_pred))\n",
        "\n",
        "        # Confusion Matrix\n",
        "        cm = confusion_matrix(y_test, y_pred)\n",
        "        sns.heatmap(cm, annot=True, fmt='d', cmap='Blues')\n",
        "        plt.title(f'Confusion Matrix - {name}')\n",
        "        plt.xlabel('Predicted')\n",
        "        plt.ylabel('Actual')\n",
        "        plt.show()\n",
        "\n",
        "        # ROC Curve\n",
        "        if len(np.unique(y_test)) == 2 and hasattr(model, \"predict_proba\"):\n",
        "            y_proba = model.predict_proba(X_test)[:, 1]\n",
        "            fpr, tpr, _ = roc_curve(y_test, y_proba)\n",
        "            roc_auc = auc(fpr, tpr)\n",
        "\n",
        "            plt.plot(fpr, tpr, label=f'{name} (AUC = {roc_auc:.2f})')\n",
        "            plt.plot([0, 1], [0, 1], 'k--')\n",
        "            plt.xlabel('False Positive Rate')\n",
        "            plt.ylabel('True Positive Rate')\n",
        "            plt.title(f'ROC Curve - {name}')\n",
        "            plt.legend()\n",
        "            plt.grid()\n",
        "            plt.show()\n",
        "        else:\n",
        "            print(f\"⚠️ ROC Curve not shown for {name} (requires binary classification and predict_proba)\")\n",
        "\n",
        "    except Exception as e:\n",
        "        print(f\"❌ Error evaluating {name}: {str(e)}\")\n",
        "\n",
        "# First verify models are properly fitted\n",
        "print(\"Checking model fitting status:\")\n",
        "print(f\"LightGBM fitted: {hasattr(lgbm, 'classes_')}\")\n",
        "print(f\"SVM fitted: {hasattr(svm, 'classes_')}\")\n",
        "\n",
        "# Only evaluate if fitted\n",
        "if hasattr(lgbm, \"classes_\"):\n",
        "    evaluate_model(lgbm, \"LightGBM\", X_res_scaled, y_resampled)\n",
        "else:\n",
        "    print(\"❌ LightGBM model not fitted properly!\")\n",
        "\n",
        "if hasattr(svm, \"classes_\"):\n",
        "    evaluate_model(svm, \"SVM\", X_res_scaled, y_resampled)\n",
        "else:\n",
        "    print(\"❌ SVM model not fitted properly!\")"
      ],
      "metadata": {
        "colab": {
          "base_uri": "https://localhost:8080/",
          "height": 732
        },
        "id": "I48GKOGiFkeg",
        "outputId": "1ee78c04-4b7c-4b26-81a4-3e0c5a5d1484"
      },
      "execution_count": 55,
      "outputs": [
        {
          "output_type": "stream",
          "name": "stdout",
          "text": [
            "Checking model fitting status:\n",
            "LightGBM fitted: True\n",
            "SVM fitted: False\n",
            "\n",
            "📌 Evaluation Report for LightGBM\n",
            "              precision    recall  f1-score   support\n",
            "\n",
            "           0       1.00      1.00      1.00    236846\n",
            "\n",
            "    accuracy                           1.00    236846\n",
            "   macro avg       1.00      1.00      1.00    236846\n",
            "weighted avg       1.00      1.00      1.00    236846\n",
            "\n"
          ]
        },
        {
          "output_type": "display_data",
          "data": {
            "text/plain": [
              "<Figure size 640x480 with 2 Axes>"
            ],
            "image/png": "[encoded data removed]"
          },
          "metadata": {}
        },
        {
          "output_type": "stream",
          "name": "stdout",
          "text": [
            "⚠️ ROC Curve not shown for LightGBM (requires binary classification and predict_proba)\n",
            "❌ SVM model not fitted properly!\n"
          ]
        }
      ]
    },
    {
      "cell_type": "code",
      "source": [
        "# Step 11: Make Predictions on Test Dataset\n",
        "final_predictions = lgbm.predict(X_test_scaled)\n",
        "print(\"\\n🧾 Sample Predictions (1 = Default, 0 = Non-default):\")\n",
        "print(final_predictions[:20])\n"
      ],
      "metadata": {
        "colab": {
          "base_uri": "https://localhost:8080/"
        },
        "id": "SmHUArMyHzPU",
        "outputId": "236a5cd0-8c1c-4988-9e8f-674cf460e576"
      },
      "execution_count": 56,
      "outputs": [
        {
          "output_type": "stream",
          "name": "stdout",
          "text": [
            "\n",
            "🧾 Sample Predictions (1 = Default, 0 = Non-default):\n",
            "[0 0 0 0 0 0 0 0 0 0 0 0 0 0 0 0 0 0 0 0]\n"
          ]
        }
      ]
    },
    {
      "cell_type": "code",
      "source": [
        "# Step 12: Save Predictions to CSV\n",
        "output_df = pd.DataFrame({'Prediction': final_predictions})\n",
        "output_df.to_csv('loan_default_predictions.csv', index=False)\n",
        "\n",
        "from google.colab import files\n",
        "files.download('loan_default_predictions.csv')\n"
      ],
      "metadata": {
        "colab": {
          "base_uri": "https://localhost:8080/",
          "height": 17
        },
        "id": "C-drM2xNH12H",
        "outputId": "1e8f1a38-1a70-4d6e-c173-c0b80e202dc6"
      },
      "execution_count": 46,
      "outputs": [
        {
          "output_type": "display_data",
          "data": {
            "text/plain": [
              "<IPython.core.display.Javascript object>"
            ],
            "application/javascript": [
              "\n",
              "    async function download(id, filename, size) {\n",
              "      if (!google.colab.kernel.accessAllowed) {\n",
              "        return;\n",
              "      }\n",
              "      const div = document.createElement('div');\n",
              "      const label = document.createElement('label');\n",
              "      label.textContent = `Downloading \"${filename}\": `;\n",
              "      div.appendChild(label);\n",
              "      const progress = document.createElement('progress');\n",
              "      progress.max = size;\n",
              "      div.appendChild(progress);\n",
              "      document.body.appendChild(div);\n",
              "\n",
              "      const buffers = [];\n",
              "      let downloaded = 0;\n",
              "\n",
              "      const channel = await google.colab.kernel.comms.open(id);\n",
              "      // Send a message to notify the kernel that we're ready.\n",
              "      channel.send({})\n",
              "\n",
              "      for await (const message of channel.messages) {\n",
              "        // Send a message to notify the kernel that we're ready.\n",
              "        channel.send({})\n",
              "        if (message.buffers) {\n",
              "          for (const buffer of message.buffers) {\n",
              "            buffers.push(buffer);\n",
              "            downloaded += buffer.byteLength;\n",
              "            progress.value = downloaded;\n",
              "          }\n",
              "        }\n",
              "      }\n",
              "      const blob = new Blob(buffers, {type: 'application/binary'});\n",
              "      const a = document.createElement('a');\n",
              "      a.href = window.URL.createObjectURL(blob);\n",
              "      a.download = filename;\n",
              "      div.appendChild(a);\n",
              "      a.click();\n",
              "      div.remove();\n",
              "    }\n",
              "  "
            ]
          },
          "metadata": {}
        },
        {
          "output_type": "display_data",
          "data": {
            "text/plain": [
              "<IPython.core.display.Javascript object>"
            ],
            "application/javascript": [
              "download(\"download_adc67991-fbb9-4495-bc0d-f994e3993ee7\", \"loan_default_predictions.csv\", 190049)"
            ]
          },
          "metadata": {}
        }
      ]
    },
    {
      "cell_type": "code",
      "source": [
        "# Step 13: Recommendations for Lenders\n",
        "print(\"\\n📘 Final Recommendations for Lending Risk Management:\")\n",
        "print(\"\"\"\n",
        "1. Pay special attention to high-risk features: low income, high loan amount, poor credit history.\n",
        "2. Use this model to flag potentially risky applicants for deeper analysis.\n",
        "3. Apply probability thresholds based on internal risk policies.\n",
        "4. Continuously retrain the model with new applicant data for better generalization.\n",
        "5. Visualize model explanations (e.g., SHAP) to make the system more transparent.\n",
        "\"\"\")\n"
      ],
      "metadata": {
        "colab": {
          "base_uri": "https://localhost:8080/"
        },
        "id": "glH-orVCH3VL",
        "outputId": "d9132bc5-e888-4485-ce9e-e42bd211459c"
      },
      "execution_count": 57,
      "outputs": [
        {
          "output_type": "stream",
          "name": "stdout",
          "text": [
            "\n",
            "📘 Final Recommendations for Lending Risk Management:\n",
            "\n",
            "1. Pay special attention to high-risk features: low income, high loan amount, poor credit history.\n",
            "2. Use this model to flag potentially risky applicants for deeper analysis.\n",
            "3. Apply probability thresholds based on internal risk policies.\n",
            "4. Continuously retrain the model with new applicant data for better generalization.\n",
            "5. Visualize model explanations (e.g., SHAP) to make the system more transparent.\n",
            "\n"
          ]
        }
      ]
    }
  ]
}